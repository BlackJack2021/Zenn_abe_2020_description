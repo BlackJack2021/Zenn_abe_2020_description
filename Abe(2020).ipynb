{
  "nbformat": 4,
  "nbformat_minor": 0,
  "metadata": {
    "colab": {
      "provenance": [],
      "authorship_tag": "ABX9TyNvT3itEMqmTzWw3ZraxnMT",
      "include_colab_link": true
    },
    "kernelspec": {
      "name": "python3",
      "display_name": "Python 3"
    },
    "language_info": {
      "name": "python"
    }
  },
  "cells": [
    {
      "cell_type": "markdown",
      "metadata": {
        "id": "view-in-github",
        "colab_type": "text"
      },
      "source": [
        "<a href=\"https://colab.research.google.com/github/BlackJack2021/Zenn_abe_2020_description/blob/main/Abe(2020).ipynb\" target=\"_parent\"><img src=\"https://colab.research.google.com/assets/colab-badge.svg\" alt=\"Open In Colab\"/></a>"
      ]
    },
    {
      "cell_type": "markdown",
      "source": [
        "# データの取得・整形\n",
        "\n",
        "データは CDNOW データセットを用いる。データは [こちらからダウンロード](https://www.brucehardie.com/datasets/) できるものを利用する。\n"
      ],
      "metadata": {
        "id": "aroRHzw9iHlb"
      }
    },
    {
      "cell_type": "code",
      "source": [
        "!wget https://www.brucehardie.com/datasets/CDNOW_master.zip\n",
        "!unzip CDNOW_master.zip"
      ],
      "metadata": {
        "colab": {
          "base_uri": "https://localhost:8080/"
        },
        "id": "wzINM29dyoJf",
        "outputId": "a94764c9-9060-4642-911a-8da0dee48c84"
      },
      "execution_count": 2,
      "outputs": [
        {
          "output_type": "stream",
          "name": "stdout",
          "text": [
            "--2024-02-03 05:35:47--  https://www.brucehardie.com/datasets/CDNOW_master.zip\n",
            "Resolving www.brucehardie.com (www.brucehardie.com)... 66.96.146.129\n",
            "Connecting to www.brucehardie.com (www.brucehardie.com)|66.96.146.129|:443... connected.\n",
            "HTTP request sent, awaiting response... 200 OK\n",
            "Length: 433231 (423K) [application/zip]\n",
            "Saving to: ‘CDNOW_master.zip’\n",
            "\n",
            "CDNOW_master.zip    100%[===================>] 423.08K  --.-KB/s    in 0.1s    \n",
            "\n",
            "2024-02-03 05:35:47 (3.67 MB/s) - ‘CDNOW_master.zip’ saved [433231/433231]\n",
            "\n",
            "Archive:  CDNOW_master.zip\n",
            "  inflating: CDNOW_master.txt        \n",
            "  inflating: read_me_CDNOW_master.txt  \n"
          ]
        }
      ]
    },
    {
      "cell_type": "code",
      "execution_count": 3,
      "metadata": {
        "colab": {
          "base_uri": "https://localhost:8080/"
        },
        "id": "DZC3hSb3iBaO",
        "outputId": "c1c5f6c5-a7b7-4a42-d7ee-e0c62ab4c0c6"
      },
      "outputs": [
        {
          "output_type": "stream",
          "name": "stdout",
          "text": [
            "各データの型\n",
            "customer_id              int64\n",
            "date            datetime64[ns]\n",
            "quantity                 int64\n",
            "price                  float64\n",
            "total_amount           float64\n",
            "dtype: object\n",
            "\n",
            "サンプル数\n",
            "69659\n",
            "\n",
            "例\n",
            "   customer_id       date  quantity  price  total_amount\n",
            "0            1 1997-01-01         1  11.77         11.77\n",
            "1            2 1997-01-12         1  12.00         12.00\n",
            "2            2 1997-01-12         5  77.00        385.00\n",
            "3            3 1997-01-02         2  20.76         41.52\n",
            "4            3 1997-03-30         2  20.76         41.52\n"
          ]
        }
      ],
      "source": [
        "import pandas as pd\n",
        "import warnings\n",
        "\n",
        "warnings.simplefilter('ignore')\n",
        "\n",
        "# テキストファイルを読み込む\n",
        "# 区切り文字をスペースとして指定し、列名を明示的に設定\n",
        "raw_df = pd.read_csv('CDNOW_master.txt', sep='\\s+', names=['customer_id', 'date', 'quantity', 'price'])\n",
        "df = raw_df.copy()\n",
        "\n",
        "# 日付データを datetime 型に変更\n",
        "df['date'] = pd.to_datetime(df['date'], format='%Y%m%d')\n",
        "\n",
        "# 売上 (total_amount) 変数を作成\n",
        "df['total_amount'] = df['quantity'] * df['price']\n",
        "\n",
        "print('各データの型')\n",
        "print(df.dtypes)\n",
        "print('\\nサンプル数')\n",
        "print(len(df))\n",
        "print('\\n例')\n",
        "print(df.head())"
      ]
    },
    {
      "cell_type": "markdown",
      "source": [
        "同一の日付に複数購入がされているデータも見られるので、同一の日付における複数の購入は1レコードにまとめてしまう（おそらく、同一の日付に違う商品が購入された場合に複数レコード登場してしまっているのだと推測される）。\n",
        "\n",
        "我々の分析でほしいのは、各日付の総支払額なので、それを求めた `agg_df` を定義する。\n"
      ],
      "metadata": {
        "id": "xFQFxfs7xp0I"
      }
    },
    {
      "cell_type": "code",
      "source": [
        "agg_df = df.groupby(['customer_id', 'date'])['total_amount'].sum().reset_index()\n",
        "\n",
        "print('各データの型')\n",
        "print(agg_df.dtypes)\n",
        "print('\\nサンプル数')\n",
        "print(len(agg_df))\n",
        "print('\\n例')\n",
        "print(agg_df.head())"
      ],
      "metadata": {
        "colab": {
          "base_uri": "https://localhost:8080/"
        },
        "id": "W6oODaP7_q68",
        "outputId": "ed984f11-4c21-4adb-dce0-cc1740c7caf6"
      },
      "execution_count": 4,
      "outputs": [
        {
          "output_type": "stream",
          "name": "stdout",
          "text": [
            "各データの型\n",
            "customer_id              int64\n",
            "date            datetime64[ns]\n",
            "total_amount           float64\n",
            "dtype: object\n",
            "\n",
            "サンプル数\n",
            "67591\n",
            "\n",
            "例\n",
            "   customer_id       date  total_amount\n",
            "0            1 1997-01-01         11.77\n",
            "1            2 1997-01-12        397.00\n",
            "2            3 1997-01-02         41.52\n",
            "3            3 1997-03-30         41.52\n",
            "4            3 1997-04-02         39.08\n"
          ]
        }
      ]
    },
    {
      "cell_type": "markdown",
      "source": [
        "# 顧客データの選別\n",
        "\n",
        "ここでは Abe(2020) の選択基準と同じように、5回以上の購買があった顧客にデータを絞り込んで分析を行うことにする。\n"
      ],
      "metadata": {
        "id": "UEYSVRDeBy_8"
      }
    },
    {
      "cell_type": "code",
      "source": [
        "customer_count_df = agg_df.groupby('customer_id').size().reset_index(name='count')\n",
        "candidate_customers = customer_count_df[customer_count_df['count'] >= 5]['customer_id'].tolist()\n",
        "print('元々のユーザー数', len(customer_count_df))\n",
        "print('5回以上の購買ユーザー数', len(candidate_customers))\n",
        "\n",
        "filtered_df = agg_df[agg_df['customer_id'].isin(candidate_customers)]"
      ],
      "metadata": {
        "colab": {
          "base_uri": "https://localhost:8080/"
        },
        "id": "jvVIVdNgxoud",
        "outputId": "d2fa1349-beb4-465d-b543-a4f42c8f35a1"
      },
      "execution_count": 5,
      "outputs": [
        {
          "output_type": "stream",
          "name": "stdout",
          "text": [
            "元々のユーザー数 23570\n",
            "5回以上の購買ユーザー数 3835\n"
          ]
        }
      ]
    },
    {
      "cell_type": "markdown",
      "source": [
        "したがって、今回の分析に利用する顧客の数は3835人である。"
      ],
      "metadata": {
        "id": "b-St_c3-yr6G"
      }
    },
    {
      "cell_type": "markdown",
      "source": [
        "# 尤度関数の記述に向けて変数抽出\n",
        "\n",
        "同梱されている説明文には以下のような記述がある。\n",
        "\n",
        "> 1997年第1四半期にCDNOWで初めて購入した23,570人のコホート全員の、**1998年6月末までの全購入履歴**が含まれています。このCDNOWデータセットは、FaderとHardie（2001）によって初めて使用されました。このファイルの各レコードには、69,659件のレコードがあり、顧客のID、取引の日付、購入されたCDの数、取引のドル価値の4つのフィールドが含まれています。\n",
        "\n",
        "つまり、このデータにおける観測期間の打ち切りは `1998-06-30` である。あるユーザーの購入時点が $(y_1, y_2,...,y_n)$ と表現されると仮定する。この時、尤度関数の記述のために必要な変数は以下である。\n",
        "\n",
        "1. 購買間隔日数 $(t_1, t_2,...,t_{n-1})$\n",
        "    - ただし、$t_1 \\equiv y_2 - y_1$, $t_2 \\equiv y_3 - y_2$,... である。\n",
        "2. 最終購買時点から観測打ち切り時点までの経過日数($r$): いわゆるRecency\n",
        "    - $1998年6月30日 - y_n$ で計算できる\n",
        "3. 各購買における支払い金額 $(s_1, s_2,..., s_n)$\n",
        "4. 観測期間開始から打ち切りまでの経過時間: $T$\n",
        "\n",
        "まず、特定の顧客のデータ: `pd.DataFrame` が与えられたときに、そのデータからこれらの情報を抽出する関数を用意する。\n"
      ],
      "metadata": {
        "id": "3DZgYBYlxa2a"
      }
    },
    {
      "cell_type": "code",
      "source": [
        "from typing import List, TypedDict\n",
        "\n",
        "class Features(TypedDict):\n",
        "    '''尤度関数の記述に必要な変数を格納する辞書の型を定義\n",
        "\n",
        "    Args:\n",
        "        intervals(List[float]): 購買間隔日数のリスト\n",
        "        recency(float): 最終購買時点から観測打ち切り時点までの経過日数\n",
        "        expenditures(List[float]) 各購買における支払い金額\n",
        "        T(float): 観測期間開始から打ち切りまでの経過時間\n",
        "    '''\n",
        "    intervals: List[int]\n",
        "    recency: float\n",
        "    expenditures: List[float]\n",
        "    T: float\n",
        "\n",
        "class CustomerFeatures(TypedDict):\n",
        "    customer_id: int\n",
        "    features: Features\n",
        "\n",
        "def extract_features(customer_id: int, customer_df: pd.DataFrame) -> CustomerFeatures:\n",
        "    '''分析対象のユーザーのデータから、尤度の記述に必要な変数を取得します\n",
        "\n",
        "    Args:\n",
        "        df(pd.DataFrame): 以下の列が含まれるものです。\n",
        "            customer_id: int64\n",
        "            date: datetime64[ns]\n",
        "            total_amount: float64\n",
        "    '''\n",
        "\n",
        "    def _extract_intervals(customer_df: pd.DataFrame) -> List[int]:\n",
        "        '''各購買の間隔を計算'''\n",
        "        intervals = customer_df['date'].diff().dt.days.tolist()\n",
        "        # 先頭が nan になるので取り除く\n",
        "        return intervals[1:]\n",
        "\n",
        "    def _extract_recency(customer_df: pd.DataFrame) -> int:\n",
        "        '''最終購買時点から観測打ち切り時点までの経過日数を計算'''\n",
        "        observation_end = pd.to_datetime('1998-06-30')\n",
        "        last_purchase = customer_df['date'].max()\n",
        "        return (observation_end - last_purchase).days\n",
        "\n",
        "    def _extract_expenditures(customer_df: pd.DataFrame) -> List[float]:\n",
        "        '''各時点の購買金額を取得'''\n",
        "        return customer_df['total_amount'].tolist()\n",
        "\n",
        "    def _extract_T(customer_df: pd.DataFrame) -> int:\n",
        "        '''最初の購買が発生してから打ち切りまでの経過時間'''\n",
        "        observation_end = pd.to_datetime('1998-06-30')\n",
        "        observation_start = customer_df['date'].min()\n",
        "        return (observation_end - observation_start).days\n",
        "\n",
        "    intervals = _extract_intervals(customer_df)\n",
        "    recency = _extract_recency(customer_df)\n",
        "    expenditures = _extract_expenditures(customer_df)\n",
        "    T = _extract_T(customer_df)\n",
        "\n",
        "    result: CustomerFeatures = {\n",
        "        'customer_id': customer_id,\n",
        "        'features': {\n",
        "            'intervals': intervals ,\n",
        "            'recency': recency,\n",
        "            'expenditures': expenditures,\n",
        "            'T': T\n",
        "        }\n",
        "    }\n",
        "\n",
        "    return result"
      ],
      "metadata": {
        "id": "aRIU4rx-i19l"
      },
      "execution_count": 23,
      "outputs": []
    },
    {
      "cell_type": "markdown",
      "source": [
        "上記のコードを利用して、各顧客ごとの特徴量を抽出し、List 形式で全て格納"
      ],
      "metadata": {
        "id": "IkZdC9Np6u2s"
      }
    },
    {
      "cell_type": "code",
      "source": [
        "from tqdm import tqdm\n",
        "features_of_customers: List[CustomerFeatures] = []\n",
        "for customer_id, customer_df in tqdm(filtered_df.groupby('customer_id')):\n",
        "    features = extract_features(customer_id, customer_df)\n",
        "    features_of_customers.append(features)"
      ],
      "metadata": {
        "colab": {
          "base_uri": "https://localhost:8080/"
        },
        "id": "pJDadoJrjJNS",
        "outputId": "241a1119-8df1-444c-d015-61d0dc51d9ce"
      },
      "execution_count": 24,
      "outputs": [
        {
          "output_type": "stream",
          "name": "stderr",
          "text": [
            "100%|██████████| 3835/3835 [00:07<00:00, 511.85it/s]\n"
          ]
        }
      ]
    },
    {
      "cell_type": "code",
      "source": [
        "from pprint import pprint\n",
        "pprint(features_of_customers[:3])"
      ],
      "metadata": {
        "colab": {
          "base_uri": "https://localhost:8080/"
        },
        "id": "OG9JrrepxPoi",
        "outputId": "696bdc1f-0b00-4108-c385-fd1e3558e1d9"
      },
      "execution_count": 25,
      "outputs": [
        {
          "output_type": "stream",
          "name": "stdout",
          "text": [
            "[{'customer_id': 3,\n",
            "  'features': {'T': 544,\n",
            "               'expenditures': [41.52, 41.52, 39.08, 287.25, 83.84, 16.99],\n",
            "               'intervals': [87.0, 3.0, 227.0, 10.0, 184.0],\n",
            "               'recency': 33}},\n",
            " {'customer_id': 5,\n",
            "  'features': {'T': 545,\n",
            "               'expenditures': [58.66,\n",
            "                                13.97,\n",
            "                                116.69999999999999,\n",
            "                                136.64999999999998,\n",
            "                                116.13,\n",
            "                                52.28,\n",
            "                                56.28,\n",
            "                                121.41,\n",
            "                                185.84,\n",
            "                                121.41,\n",
            "                                112.41],\n",
            "               'intervals': [13.0,\n",
            "                             21.0,\n",
            "                             66.0,\n",
            "                             50.0,\n",
            "                             16.0,\n",
            "                             36.0,\n",
            "                             55.0,\n",
            "                             84.0,\n",
            "                             4.0,\n",
            "                             22.0],\n",
            "               'recency': 178}},\n",
            " {'customer_id': 8,\n",
            "  'features': {'T': 545,\n",
            "               'expenditures': [9.77,\n",
            "                                13.97,\n",
            "                                135.87,\n",
            "                                73.52,\n",
            "                                356.0,\n",
            "                                13.99,\n",
            "                                48.92],\n",
            "               'intervals': [43.0, 124.0, 16.0, 136.0, 39.0, 94.0],\n",
            "               'recency': 93}}]\n"
          ]
        }
      ]
    },
    {
      "cell_type": "markdown",
      "source": [
        "購買金額に関する推定には以下を用いる。\n",
        "\n",
        "$$\n",
        "\\begin{align}\n",
        "\\hat{log(m)} = \\frac{1}{n}\\sum_{i=1}^{n}\\log(s_n) \\\\\n",
        "\\omega^2 = \\frac{1}{n-1}\\sum_{i=1}^{n}\\biggl[ \\log(s_i) - \\hat{log(m)} \\biggr]^2\n",
        "\\end{align}\n",
        "$$\n",
        "\n",
        "次に残された $a, b, \\mu$ については以下で示される対数尤度を最大化するように推定する。\n",
        "\n",
        "$$\n",
        "\\begin{align}\n",
        "\\log(L(a, b, \\mu)) = \\sum_{i=1}^{n-1}\\log(g(t_i)) - \\mu T + \\log\\bigg\\{ [1-G(r)] + e^{\\mu r} \\int_{0}^{r} \\frac{\\mu e^{-\\mu x}}{1+e^{-a+bx}} dx  \\biggr\\}\n",
        "\\end{align}\n",
        "$$\n",
        "\n",
        "しかしこの対数尤度関数は複雑な形状であり、最尤推定量を解析的に得ることが困難であるので、数値解析により尤度を最大化する推定量を算出する。"
      ],
      "metadata": {
        "id": "kFhtm1TcDP_f"
      }
    },
    {
      "cell_type": "markdown",
      "source": [
        "# 実装\n",
        "\n",
        "以下で阿部モデルの推定を行うクラス `AbeModel` を実装する。($a, b, \\mu$) についての推定には `scypy.optimize` が提供する `minimize` 関数を利用して、対数尤度の最大化問題を数値解析で解く。利用している手法は `L-BFGS-B` である。\n",
        "\n"
      ],
      "metadata": {
        "id": "91DXrwpqHf8h"
      }
    },
    {
      "cell_type": "code",
      "source": [
        "import numpy as np\n",
        "from scipy.integrate import quad\n",
        "from typing import Union\n",
        "from scipy.optimize import minimize, Bounds\n",
        "\n",
        "class InitialGuess(TypedDict):\n",
        "    a: float\n",
        "    b: float\n",
        "    mu: float\n",
        "\n",
        "class Estimation(TypedDict):\n",
        "    customer_id: int\n",
        "    log_m: float\n",
        "    omega_sq: float\n",
        "    a: Optional[float]\n",
        "    b: Optional[float]\n",
        "    mu: Optional[float]\n",
        "    success: bool\n",
        "    message: Optional[str]\n",
        "\n",
        "class AbeModel:\n",
        "    def __init__(self):\n",
        "        '''各パラメータを保存するためのプロパティを作成'''\n",
        "        self.a: float = 1.0\n",
        "        self.b: float = 1.0\n",
        "        self.mu: float = 0.1\n",
        "        self.log_m: float = 1.0\n",
        "        self.omega_sq: float = 1.0\n",
        "\n",
        "\n",
        "    def _fit_log_m(self, expenditures: np.ndarray) -> float:\n",
        "        '''log_m の最尤推定を実施'''\n",
        "        return np.mean(np.log(expenditures))\n",
        "\n",
        "    def _fit_omega_sq(self, expenditures: np.ndarray, log_m: float) -> float:\n",
        "        '''omega^2 の不偏推定量を計算'''\n",
        "        degree_of_freedom = len(expenditures) - 1\n",
        "        return np.sum(np.square(np.log(expenditures) - log_m)) / degree_of_freedom\n",
        "\n",
        "    def _calc_G(self, intervals: Union[np.ndarray, float]) -> Union[np.ndarray, float]:\n",
        "        '''Gを計算'''\n",
        "        return np.exp(-self.a + self.b * intervals) / (1 + np.exp(-self.a + self.b * intervals))\n",
        "\n",
        "    def _calc_g(self, intervals: Union[np.ndarray, float]) -> Union[np.ndarray, float]:\n",
        "        '''gを計算'''\n",
        "        G = self._calc_G(intervals)\n",
        "        # gの計算で0になるのを防ぐためにepsilonを追加。ここが0になると log(g) の計算が不適切になる。\n",
        "        epsilon = 1e-10\n",
        "        g = self.b * (1 - G) * G\n",
        "        # gが非常に小さい値（epsilon以下）の場合は、epsilonを返す\n",
        "        g_with_min_value = np.maximum(g, epsilon)\n",
        "        return g_with_min_value\n",
        "\n",
        "    def _llh_first_term(self, intervals: np.ndarray) -> float:\n",
        "        '''$\\sum_{i=1}^{n-1}\\log{(g(t_i))}$ を計算'''\n",
        "        log_gs = np.log(self._calc_g(intervals))\n",
        "        return np.sum(log_gs)\n",
        "\n",
        "    def _llh_second_term(self, T: float) -> float:\n",
        "        return - self.mu * T\n",
        "\n",
        "    def _integral_term(self, r: float) -> float:\n",
        "        '''$\\int_{0}^{r}\\frac{\\mu e^{-\\mu x}}{1 + e^{-a+bx}}dx$ を近似計算'''\n",
        "        def integrand(x: float):\n",
        "            return (self.mu * np.exp(-self.mu * x)) / (1 + np.exp(-self.a + self.b * x))\n",
        "        approx_value, _ = quad(integrand, 0, r)\n",
        "        return approx_value\n",
        "\n",
        "    def _llh_third_term(self, r: float) -> float:\n",
        "        '''対数尤度の第三項を計算'''\n",
        "        value = 1 - self._calc_G(r) + np.exp(self.mu * r) * self._integral_term(r)\n",
        "        return np.log(value)\n",
        "\n",
        "    def _calc_llh(self, intervals: np.ndarray, T: float, r: float) -> float:\n",
        "        '''(a, b, mu) に関する対数尤度を計算'''\n",
        "        log_likelihood = (\n",
        "            self._llh_first_term(intervals) + self._llh_second_term(T) + self._llh_third_term(r)\n",
        "        )\n",
        "        return log_likelihood\n",
        "\n",
        "    def _neg_llh(self, params: np.ndarray, intervals: np.ndarray, T: float, r: float) -> float:\n",
        "        '''負の対数尤度関数を計算する'''\n",
        "        self.a, self.b, self.mu = params  # パラメータを更新\n",
        "        return -self._calc_llh(intervals, T, r)  # 対数尤度の負の値\n",
        "\n",
        "    def fit(self, intervals: np.ndarray, expenditures: np.ndarray, T: float, r: float, initial_guess: InitialGuess) -> Estimation:\n",
        "        '''最尤推定によるパラメータの推定'''\n",
        "        # まずは解析解が得られるものを計算\n",
        "        self.log_m = self._fit_log_m(expenditures)\n",
        "        self.omega_sq = self._fit_omega_sq(expenditures, self.log_m)\n",
        "\n",
        "        # 続いて数値解析でパラメータを推定\n",
        "        initial_guess_list = [initial_guess['a'], initial_guess['b'], initial_guess['mu']]  # 初期値\n",
        "        bounds = Bounds([-np.inf, 1e-10, 0], [np.inf, np.inf, np.inf])  # パラメータの最小値と最大値を指定\n",
        "\n",
        "        result = minimize(self._neg_llh, initial_guess_list, args=(intervals, T, r), method='L-BFGS-B', bounds=bounds)\n",
        "        self.a, self.b, self.mu = result.x\n",
        "        return {\n",
        "            'log_m': self.log_m,\n",
        "            'omega_sq': self.omega_sq,\n",
        "            'a': self.a,\n",
        "            'b': self.b,\n",
        "            'mu': self.mu,\n",
        "            'success': result.success,\n",
        "            'message': result.message\n",
        "        }"
      ],
      "metadata": {
        "id": "7RSEDIE8UQJj"
      },
      "execution_count": 27,
      "outputs": []
    },
    {
      "cell_type": "code",
      "source": [
        "from typing import Optional\n",
        "\n",
        "estimations: List[Estimation] = []\n",
        "for i in tqdm(range(len(features_of_customers))):\n",
        "    sample = features_of_customers[i]\n",
        "    customer_id = sample['customer_id']\n",
        "    intervals = np.array(sample['features']['intervals'])\n",
        "    expenditures = np.array(sample['features']['expenditures'])\n",
        "    T = sample['features']['T']\n",
        "    r = sample['features']['recency']\n",
        "    initial_guess = {'a': 1, 'b': 1, 'mu': 0.1}\n",
        "    model = AbeModel()\n",
        "    estimation = model.fit(intervals, expenditures, T, r, initial_guess)\n",
        "    estimation['customer_id'] = customer_id\n",
        "    estimations.append(estimation)\n",
        "\n",
        "estimation_df = pd.DataFrame(estimations)"
      ],
      "metadata": {
        "id": "aDCQgferK-9t",
        "colab": {
          "base_uri": "https://localhost:8080/"
        },
        "outputId": "8aa285a7-5314-4ee0-88b1-9b2a56fdd521"
      },
      "execution_count": 26,
      "outputs": [
        {
          "output_type": "stream",
          "name": "stderr",
          "text": [
            "100%|██████████| 3835/3835 [01:17<00:00, 49.62it/s]\n"
          ]
        }
      ]
    },
    {
      "cell_type": "code",
      "source": [
        "estimation_df.head()"
      ],
      "metadata": {
        "colab": {
          "base_uri": "https://localhost:8080/",
          "height": 293
        },
        "id": "yytgx6moolJe",
        "outputId": "b2ebc5fa-e8fd-4ff8-8c4a-5f2994af12e7"
      },
      "execution_count": 31,
      "outputs": [
        {
          "output_type": "execute_result",
          "data": {
            "text/plain": [
              "      log_m  omega_sq         a         b        mu  success  \\\n",
              "0  4.006642  0.913002  1.933006  0.018158  0.000000     True   \n",
              "1  4.424795  0.516846  4.249037  0.061470  0.006147     True   \n",
              "2  3.789849  1.801814  2.842791  0.033968  0.000000     True   \n",
              "3  3.094266  0.643223  1.605469  0.023422  0.000000     True   \n",
              "4  4.321208  0.957014  2.071638  0.048349  0.000000     True   \n",
              "\n",
              "                                           message  customer_id  \n",
              "0  CONVERGENCE: REL_REDUCTION_OF_F_<=_FACTR*EPSMCH            3  \n",
              "1  CONVERGENCE: REL_REDUCTION_OF_F_<=_FACTR*EPSMCH            5  \n",
              "2  CONVERGENCE: REL_REDUCTION_OF_F_<=_FACTR*EPSMCH            8  \n",
              "3  CONVERGENCE: REL_REDUCTION_OF_F_<=_FACTR*EPSMCH           25  \n",
              "4  CONVERGENCE: REL_REDUCTION_OF_F_<=_FACTR*EPSMCH           29  "
            ],
            "text/html": [
              "\n",
              "  <div id=\"df-53cf7491-ad0b-431e-8d31-acf00782c709\" class=\"colab-df-container\">\n",
              "    <div>\n",
              "<style scoped>\n",
              "    .dataframe tbody tr th:only-of-type {\n",
              "        vertical-align: middle;\n",
              "    }\n",
              "\n",
              "    .dataframe tbody tr th {\n",
              "        vertical-align: top;\n",
              "    }\n",
              "\n",
              "    .dataframe thead th {\n",
              "        text-align: right;\n",
              "    }\n",
              "</style>\n",
              "<table border=\"1\" class=\"dataframe\">\n",
              "  <thead>\n",
              "    <tr style=\"text-align: right;\">\n",
              "      <th></th>\n",
              "      <th>log_m</th>\n",
              "      <th>omega_sq</th>\n",
              "      <th>a</th>\n",
              "      <th>b</th>\n",
              "      <th>mu</th>\n",
              "      <th>success</th>\n",
              "      <th>message</th>\n",
              "      <th>customer_id</th>\n",
              "    </tr>\n",
              "  </thead>\n",
              "  <tbody>\n",
              "    <tr>\n",
              "      <th>0</th>\n",
              "      <td>4.006642</td>\n",
              "      <td>0.913002</td>\n",
              "      <td>1.933006</td>\n",
              "      <td>0.018158</td>\n",
              "      <td>0.000000</td>\n",
              "      <td>True</td>\n",
              "      <td>CONVERGENCE: REL_REDUCTION_OF_F_&lt;=_FACTR*EPSMCH</td>\n",
              "      <td>3</td>\n",
              "    </tr>\n",
              "    <tr>\n",
              "      <th>1</th>\n",
              "      <td>4.424795</td>\n",
              "      <td>0.516846</td>\n",
              "      <td>4.249037</td>\n",
              "      <td>0.061470</td>\n",
              "      <td>0.006147</td>\n",
              "      <td>True</td>\n",
              "      <td>CONVERGENCE: REL_REDUCTION_OF_F_&lt;=_FACTR*EPSMCH</td>\n",
              "      <td>5</td>\n",
              "    </tr>\n",
              "    <tr>\n",
              "      <th>2</th>\n",
              "      <td>3.789849</td>\n",
              "      <td>1.801814</td>\n",
              "      <td>2.842791</td>\n",
              "      <td>0.033968</td>\n",
              "      <td>0.000000</td>\n",
              "      <td>True</td>\n",
              "      <td>CONVERGENCE: REL_REDUCTION_OF_F_&lt;=_FACTR*EPSMCH</td>\n",
              "      <td>8</td>\n",
              "    </tr>\n",
              "    <tr>\n",
              "      <th>3</th>\n",
              "      <td>3.094266</td>\n",
              "      <td>0.643223</td>\n",
              "      <td>1.605469</td>\n",
              "      <td>0.023422</td>\n",
              "      <td>0.000000</td>\n",
              "      <td>True</td>\n",
              "      <td>CONVERGENCE: REL_REDUCTION_OF_F_&lt;=_FACTR*EPSMCH</td>\n",
              "      <td>25</td>\n",
              "    </tr>\n",
              "    <tr>\n",
              "      <th>4</th>\n",
              "      <td>4.321208</td>\n",
              "      <td>0.957014</td>\n",
              "      <td>2.071638</td>\n",
              "      <td>0.048349</td>\n",
              "      <td>0.000000</td>\n",
              "      <td>True</td>\n",
              "      <td>CONVERGENCE: REL_REDUCTION_OF_F_&lt;=_FACTR*EPSMCH</td>\n",
              "      <td>29</td>\n",
              "    </tr>\n",
              "  </tbody>\n",
              "</table>\n",
              "</div>\n",
              "    <div class=\"colab-df-buttons\">\n",
              "\n",
              "  <div class=\"colab-df-container\">\n",
              "    <button class=\"colab-df-convert\" onclick=\"convertToInteractive('df-53cf7491-ad0b-431e-8d31-acf00782c709')\"\n",
              "            title=\"Convert this dataframe to an interactive table.\"\n",
              "            style=\"display:none;\">\n",
              "\n",
              "  <svg xmlns=\"http://www.w3.org/2000/svg\" height=\"24px\" viewBox=\"0 -960 960 960\">\n",
              "    <path d=\"M120-120v-720h720v720H120Zm60-500h600v-160H180v160Zm220 220h160v-160H400v160Zm0 220h160v-160H400v160ZM180-400h160v-160H180v160Zm440 0h160v-160H620v160ZM180-180h160v-160H180v160Zm440 0h160v-160H620v160Z\"/>\n",
              "  </svg>\n",
              "    </button>\n",
              "\n",
              "  <style>\n",
              "    .colab-df-container {\n",
              "      display:flex;\n",
              "      gap: 12px;\n",
              "    }\n",
              "\n",
              "    .colab-df-convert {\n",
              "      background-color: #E8F0FE;\n",
              "      border: none;\n",
              "      border-radius: 50%;\n",
              "      cursor: pointer;\n",
              "      display: none;\n",
              "      fill: #1967D2;\n",
              "      height: 32px;\n",
              "      padding: 0 0 0 0;\n",
              "      width: 32px;\n",
              "    }\n",
              "\n",
              "    .colab-df-convert:hover {\n",
              "      background-color: #E2EBFA;\n",
              "      box-shadow: 0px 1px 2px rgba(60, 64, 67, 0.3), 0px 1px 3px 1px rgba(60, 64, 67, 0.15);\n",
              "      fill: #174EA6;\n",
              "    }\n",
              "\n",
              "    .colab-df-buttons div {\n",
              "      margin-bottom: 4px;\n",
              "    }\n",
              "\n",
              "    [theme=dark] .colab-df-convert {\n",
              "      background-color: #3B4455;\n",
              "      fill: #D2E3FC;\n",
              "    }\n",
              "\n",
              "    [theme=dark] .colab-df-convert:hover {\n",
              "      background-color: #434B5C;\n",
              "      box-shadow: 0px 1px 3px 1px rgba(0, 0, 0, 0.15);\n",
              "      filter: drop-shadow(0px 1px 2px rgba(0, 0, 0, 0.3));\n",
              "      fill: #FFFFFF;\n",
              "    }\n",
              "  </style>\n",
              "\n",
              "    <script>\n",
              "      const buttonEl =\n",
              "        document.querySelector('#df-53cf7491-ad0b-431e-8d31-acf00782c709 button.colab-df-convert');\n",
              "      buttonEl.style.display =\n",
              "        google.colab.kernel.accessAllowed ? 'block' : 'none';\n",
              "\n",
              "      async function convertToInteractive(key) {\n",
              "        const element = document.querySelector('#df-53cf7491-ad0b-431e-8d31-acf00782c709');\n",
              "        const dataTable =\n",
              "          await google.colab.kernel.invokeFunction('convertToInteractive',\n",
              "                                                    [key], {});\n",
              "        if (!dataTable) return;\n",
              "\n",
              "        const docLinkHtml = 'Like what you see? Visit the ' +\n",
              "          '<a target=\"_blank\" href=https://colab.research.google.com/notebooks/data_table.ipynb>data table notebook</a>'\n",
              "          + ' to learn more about interactive tables.';\n",
              "        element.innerHTML = '';\n",
              "        dataTable['output_type'] = 'display_data';\n",
              "        await google.colab.output.renderOutput(dataTable, element);\n",
              "        const docLink = document.createElement('div');\n",
              "        docLink.innerHTML = docLinkHtml;\n",
              "        element.appendChild(docLink);\n",
              "      }\n",
              "    </script>\n",
              "  </div>\n",
              "\n",
              "\n",
              "<div id=\"df-96aa7397-af88-447f-8d74-e2860d9de276\">\n",
              "  <button class=\"colab-df-quickchart\" onclick=\"quickchart('df-96aa7397-af88-447f-8d74-e2860d9de276')\"\n",
              "            title=\"Suggest charts\"\n",
              "            style=\"display:none;\">\n",
              "\n",
              "<svg xmlns=\"http://www.w3.org/2000/svg\" height=\"24px\"viewBox=\"0 0 24 24\"\n",
              "     width=\"24px\">\n",
              "    <g>\n",
              "        <path d=\"M19 3H5c-1.1 0-2 .9-2 2v14c0 1.1.9 2 2 2h14c1.1 0 2-.9 2-2V5c0-1.1-.9-2-2-2zM9 17H7v-7h2v7zm4 0h-2V7h2v10zm4 0h-2v-4h2v4z\"/>\n",
              "    </g>\n",
              "</svg>\n",
              "  </button>\n",
              "\n",
              "<style>\n",
              "  .colab-df-quickchart {\n",
              "      --bg-color: #E8F0FE;\n",
              "      --fill-color: #1967D2;\n",
              "      --hover-bg-color: #E2EBFA;\n",
              "      --hover-fill-color: #174EA6;\n",
              "      --disabled-fill-color: #AAA;\n",
              "      --disabled-bg-color: #DDD;\n",
              "  }\n",
              "\n",
              "  [theme=dark] .colab-df-quickchart {\n",
              "      --bg-color: #3B4455;\n",
              "      --fill-color: #D2E3FC;\n",
              "      --hover-bg-color: #434B5C;\n",
              "      --hover-fill-color: #FFFFFF;\n",
              "      --disabled-bg-color: #3B4455;\n",
              "      --disabled-fill-color: #666;\n",
              "  }\n",
              "\n",
              "  .colab-df-quickchart {\n",
              "    background-color: var(--bg-color);\n",
              "    border: none;\n",
              "    border-radius: 50%;\n",
              "    cursor: pointer;\n",
              "    display: none;\n",
              "    fill: var(--fill-color);\n",
              "    height: 32px;\n",
              "    padding: 0;\n",
              "    width: 32px;\n",
              "  }\n",
              "\n",
              "  .colab-df-quickchart:hover {\n",
              "    background-color: var(--hover-bg-color);\n",
              "    box-shadow: 0 1px 2px rgba(60, 64, 67, 0.3), 0 1px 3px 1px rgba(60, 64, 67, 0.15);\n",
              "    fill: var(--button-hover-fill-color);\n",
              "  }\n",
              "\n",
              "  .colab-df-quickchart-complete:disabled,\n",
              "  .colab-df-quickchart-complete:disabled:hover {\n",
              "    background-color: var(--disabled-bg-color);\n",
              "    fill: var(--disabled-fill-color);\n",
              "    box-shadow: none;\n",
              "  }\n",
              "\n",
              "  .colab-df-spinner {\n",
              "    border: 2px solid var(--fill-color);\n",
              "    border-color: transparent;\n",
              "    border-bottom-color: var(--fill-color);\n",
              "    animation:\n",
              "      spin 1s steps(1) infinite;\n",
              "  }\n",
              "\n",
              "  @keyframes spin {\n",
              "    0% {\n",
              "      border-color: transparent;\n",
              "      border-bottom-color: var(--fill-color);\n",
              "      border-left-color: var(--fill-color);\n",
              "    }\n",
              "    20% {\n",
              "      border-color: transparent;\n",
              "      border-left-color: var(--fill-color);\n",
              "      border-top-color: var(--fill-color);\n",
              "    }\n",
              "    30% {\n",
              "      border-color: transparent;\n",
              "      border-left-color: var(--fill-color);\n",
              "      border-top-color: var(--fill-color);\n",
              "      border-right-color: var(--fill-color);\n",
              "    }\n",
              "    40% {\n",
              "      border-color: transparent;\n",
              "      border-right-color: var(--fill-color);\n",
              "      border-top-color: var(--fill-color);\n",
              "    }\n",
              "    60% {\n",
              "      border-color: transparent;\n",
              "      border-right-color: var(--fill-color);\n",
              "    }\n",
              "    80% {\n",
              "      border-color: transparent;\n",
              "      border-right-color: var(--fill-color);\n",
              "      border-bottom-color: var(--fill-color);\n",
              "    }\n",
              "    90% {\n",
              "      border-color: transparent;\n",
              "      border-bottom-color: var(--fill-color);\n",
              "    }\n",
              "  }\n",
              "</style>\n",
              "\n",
              "  <script>\n",
              "    async function quickchart(key) {\n",
              "      const quickchartButtonEl =\n",
              "        document.querySelector('#' + key + ' button');\n",
              "      quickchartButtonEl.disabled = true;  // To prevent multiple clicks.\n",
              "      quickchartButtonEl.classList.add('colab-df-spinner');\n",
              "      try {\n",
              "        const charts = await google.colab.kernel.invokeFunction(\n",
              "            'suggestCharts', [key], {});\n",
              "      } catch (error) {\n",
              "        console.error('Error during call to suggestCharts:', error);\n",
              "      }\n",
              "      quickchartButtonEl.classList.remove('colab-df-spinner');\n",
              "      quickchartButtonEl.classList.add('colab-df-quickchart-complete');\n",
              "    }\n",
              "    (() => {\n",
              "      let quickchartButtonEl =\n",
              "        document.querySelector('#df-96aa7397-af88-447f-8d74-e2860d9de276 button');\n",
              "      quickchartButtonEl.style.display =\n",
              "        google.colab.kernel.accessAllowed ? 'block' : 'none';\n",
              "    })();\n",
              "  </script>\n",
              "</div>\n",
              "\n",
              "    </div>\n",
              "  </div>\n"
            ]
          },
          "metadata": {},
          "execution_count": 31
        }
      ]
    },
    {
      "cell_type": "code",
      "source": [],
      "metadata": {
        "id": "R2GbKKvFJWyb"
      },
      "execution_count": null,
      "outputs": []
    }
  ]
}